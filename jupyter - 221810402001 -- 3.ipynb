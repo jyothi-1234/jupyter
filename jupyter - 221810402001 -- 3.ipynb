{
 "cells": [
  {
   "cell_type": "code",
   "execution_count": 1,
   "metadata": {},
   "outputs": [
    {
     "name": "stdout",
     "output_type": "stream",
     "text": [
      "1 2 3 4 6 12 "
     ]
    }
   ],
   "source": [
    "# find the factors of a given number \n",
    "# 12 -- > 1 2 3 4 6 12\n",
    "def factorslist(n):\n",
    "    for i in range(1,n+1):\n",
    "        if n % i == 0:\n",
    "            print(i,end=\" \")\n",
    "    return\n",
    "factorslist(12)"
   ]
  },
  {
   "cell_type": "code",
   "execution_count": 6,
   "metadata": {},
   "outputs": [
    {
     "data": {
      "text/plain": [
       "True"
      ]
     },
     "execution_count": 6,
     "metadata": {},
     "output_type": "execute_result"
    }
   ],
   "source": [
    "# given number is prime number or not\n",
    "def isprime(n):\n",
    "    flag = True\n",
    "    for i in range(2,n//2+1):\n",
    "        if n % i == 0:\n",
    "            flag = Flase\n",
    "            return flag\n",
    "        return flag \n",
    "isprime(11)"
   ]
  },
  {
   "cell_type": "code",
   "execution_count": 19,
   "metadata": {},
   "outputs": [
    {
     "data": {
      "text/plain": [
       "4"
      ]
     },
     "execution_count": 19,
     "metadata": {},
     "output_type": "execute_result"
    }
   ],
   "source": [
    "# Function to find prime number count from 1 to 10\n",
    "# 10 -- 4(2,3,5,7)\n",
    "def primeCount(n):\n",
    "    cnt= 0\n",
    "    for a in range(2,n+1):\n",
    "        k = 0\n",
    "        for i in range (2,a//2+1):\n",
    "            if a % i == 0:\n",
    "                k = k + 1\n",
    "        if(k<=0):\n",
    "            cnt = cnt + 1\n",
    "    return cnt\n",
    "primeCount(10)"
   ]
  },
  {
   "cell_type": "code",
   "execution_count": null,
   "metadata": {},
   "outputs": [],
   "source": []
  }
 ],
 "metadata": {
  "kernelspec": {
   "display_name": "Python 3",
   "language": "python",
   "name": "python3"
  },
  "language_info": {
   "codemirror_mode": {
    "name": "ipython",
    "version": 3
   },
   "file_extension": ".py",
   "mimetype": "text/x-python",
   "name": "python",
   "nbconvert_exporter": "python",
   "pygments_lexer": "ipython3",
   "version": "3.7.3"
  }
 },
 "nbformat": 4,
 "nbformat_minor": 2
}
