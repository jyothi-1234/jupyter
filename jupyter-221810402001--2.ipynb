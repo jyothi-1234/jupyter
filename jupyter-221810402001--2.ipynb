{
 "cells": [
  {
   "cell_type": "code",
   "execution_count": 2,
   "metadata": {},
   "outputs": [
    {
     "name": "stdout",
     "output_type": "stream",
     "text": [
      "enter number 14\n",
      "enter number 25\n",
      "enter number 37\n",
      "7 is the large number\n"
     ]
    }
   ],
   "source": [
    "# FIND THE LARGE NUMBER FROM THE GIVEN 3 NUMBERS\n",
    "a1 = int(input(\"enter number 1\"))\n",
    "a2 = int(input(\"enter number 2\"))\n",
    "a3 = int(input(\"enter number 3\"))\n",
    "\n",
    "if a1>a2 and a1>a3:\n",
    "    print(a1, \"is the large number\")\n",
    "elif a2>a1 and a2>a3:\n",
    "    print(a2, \"is the large number\")\n",
    "else:\n",
    "    print(a3, \"is the large number\")\n",
    "    "
   ]
  },
  {
   "cell_type": "code",
   "execution_count": 3,
   "metadata": {},
   "outputs": [
    {
     "name": "stdout",
     "output_type": "stream",
     "text": [
      "enter year2018\n",
      "not a leap year\n"
     ]
    }
   ],
   "source": [
    "# Check if a year is the leap year or not\n",
    "year = int(input(\"enter year\"))\n",
    "if year%400 ==0 or (year % 100 != 0 and year % 4 == 0):\n",
    "    print (\"leap tear\")\n",
    "else:\n",
    "    print (\"not a leap year\")"
   ]
  },
  {
   "cell_type": "markdown",
   "metadata": {},
   "source": [
    "### ITERATION\n",
    "- while\n",
    "- for\n",
    "## Syntax\n",
    "       while Boolean_condition :\n",
    "       statement \n",
    "       increment/decrement "
   ]
  },
  {
   "cell_type": "code",
   "execution_count": 4,
   "metadata": {},
   "outputs": [
    {
     "name": "stdout",
     "output_type": "stream",
     "text": [
      "GITAM\n",
      "GITAM\n",
      "GITAM\n",
      "GITAM\n",
      "GITAM\n"
     ]
    }
   ],
   "source": [
    "# Need to print \"GITAM\" for 5 times\n",
    "print(\"GITAM\")\n",
    "print(\"GITAM\")\n",
    "print(\"GITAM\")\n",
    "print(\"GITAM\")\n",
    "print(\"GITAM\")"
   ]
  },
  {
   "cell_type": "code",
   "execution_count": 5,
   "metadata": {},
   "outputs": [
    {
     "name": "stdout",
     "output_type": "stream",
     "text": [
      "GITAM\n",
      "GITAM\n",
      "GITAM\n",
      "GITAM\n",
      "GITAM\n"
     ]
    }
   ],
   "source": [
    "x = 0\n",
    "while x < 5:\n",
    "    print(\"GITAM\")\n",
    "    x = x + 1"
   ]
  },
  {
   "cell_type": "code",
   "execution_count": 8,
   "metadata": {},
   "outputs": [
    {
     "name": "stdout",
     "output_type": "stream",
     "text": [
      "emter a number10\n",
      "1 2 3 4 5 6 7 8 9 10 "
     ]
    }
   ],
   "source": [
    "# PRINT N NATURAL NUMBERS USING WHILE LOOP\n",
    "# INPUT -10\n",
    "# OUTPUT- 1 2 3 . . . . . 10\n",
    "n = int(input(\"emter a number\"))\n",
    "i = 1\n",
    "while i <= n:\n",
    "    print(i,end = \" \")\n",
    "    i = i + 1"
   ]
  },
  {
   "cell_type": "code",
   "execution_count": 9,
   "metadata": {},
   "outputs": [
    {
     "name": "stdout",
     "output_type": "stream",
     "text": [
      "enter a number10\n",
      "30\n"
     ]
    }
   ],
   "source": [
    "# read a number --n\n",
    "# add only even number between 1 to n\n",
    "# input -- 10 \n",
    "# output -- 30(2+4+6+8+10)\n",
    "n = int(input('enter a number'))\n",
    "i = 1\n",
    "sum = 0\n",
    "while i<= n:    \n",
    "    if i % 2 == 0:\n",
    "        sum = sum + i\n",
    "    i = i + 1\n",
    "    \n",
    "print(sum)"
   ]
  },
  {
   "cell_type": "code",
   "execution_count": 14,
   "metadata": {},
   "outputs": [
    {
     "name": "stdout",
     "output_type": "stream",
     "text": [
      "100\n"
     ]
    }
   ],
   "source": [
    "x=150\n",
    "if x:\n",
    "    print(\"100\")\n",
    "else:\n",
    "    print(\"200\")"
   ]
  },
  {
   "cell_type": "markdown",
   "metadata": {},
   "source": [
    "### FUNCTIONAL PROGRAMMING\n",
    "\n",
    "* simple\n",
    "* easy read\n",
    "* lengthy program divides into sub programs"
   ]
  },
  {
   "cell_type": "code",
   "execution_count": 16,
   "metadata": {},
   "outputs": [
    {
     "ename": "SyntaxError",
     "evalue": "invalid syntax (<ipython-input-16-e53faad9f189>, line 1)",
     "output_type": "error",
     "traceback": [
      "\u001b[1;36m  File \u001b[1;32m\"<ipython-input-16-e53faad9f189>\"\u001b[1;36m, line \u001b[1;32m1\u001b[0m\n\u001b[1;33m    def name ot the function(<parameters>):\u001b[0m\n\u001b[1;37m              ^\u001b[0m\n\u001b[1;31mSyntaxError\u001b[0m\u001b[1;31m:\u001b[0m invalid syntax\n"
     ]
    }
   ],
   "source": [
    "def nameofthefunction(<parameters>):\n",
    "    statement\n",
    "    return"
   ]
  },
  {
   "cell_type": "code",
   "execution_count": 18,
   "metadata": {},
   "outputs": [
    {
     "data": {
      "text/plain": [
       "6"
      ]
     },
     "execution_count": 18,
     "metadata": {},
     "output_type": "execute_result"
    }
   ],
   "source": [
    "# read a number -- 1234\n",
    "# output -- 6(2+4)\n",
    "def addEvenDIgits(n):\n",
    "    sum=0\n",
    "    while n!=0:\n",
    "        r=n%10\n",
    "        if r%2==0:\n",
    "            sum=sum+r\n",
    "        n=n//10\n",
    "    return sum\n",
    "addEvenDIgits(1234)"
   ]
  },
  {
   "cell_type": "code",
   "execution_count": 19,
   "metadata": {},
   "outputs": [
    {
     "data": {
      "text/plain": [
       "9"
      ]
     },
     "execution_count": 19,
     "metadata": {},
     "output_type": "execute_result"
    }
   ],
   "source": [
    "# Read a number --19528\n",
    "# print the large digit print the number\n",
    "def printlarge(n):\n",
    "    large=0\n",
    "    while n!=0:\n",
    "        r=n%10\n",
    "        if large<r:\n",
    "            large=r\n",
    "        n=n//10\n",
    "    return large\n",
    "printlarge(19528)"
   ]
  },
  {
   "cell_type": "code",
   "execution_count": null,
   "metadata": {},
   "outputs": [],
   "source": []
  },
  {
   "cell_type": "raw",
   "metadata": {},
   "source": []
  },
  {
   "cell_type": "code",
   "execution_count": 21,
   "metadata": {},
   "outputs": [
    {
     "name": "stdout",
     "output_type": "stream",
     "text": [
      "no\n",
      "yes\n"
     ]
    }
   ],
   "source": [
    "# given number is palindrome or not\n",
    "# input\n",
    "# 123 -- 321 -- no\n",
    "# 121 -- 121 -- yes\n",
    "def ispalindrome(n):\n",
    "    rev=0\n",
    "    buffer=n\n",
    "    while n!=0:\n",
    "        r=n%10\n",
    "        rev=rev*10+r\n",
    "        n=n//10\n",
    "    if buffer==rev:\n",
    "        return \"yes\"\n",
    "    else:\n",
    "        return \"no\"\n",
    "    \n",
    "print(ispalindrome(123))\n",
    "print(ispalindrome(121))"
   ]
  },
  {
   "cell_type": "code",
   "execution_count": 22,
   "metadata": {},
   "outputs": [
    {
     "name": "stdout",
     "output_type": "stream",
     "text": [
      "1 2 3 4 5 6 7 8 9 "
     ]
    }
   ],
   "source": [
    "# Function to print N natural numbers with the loop\n",
    "def printNNaturalNumbers(n):\n",
    "    for x in range(1,n):\n",
    "        print(x,end=\" \")\n",
    "    return\n",
    "printNNaturalNumbers(10)"
   ]
  },
  {
   "cell_type": "code",
   "execution_count": null,
   "metadata": {},
   "outputs": [],
   "source": []
  }
 ],
 "metadata": {
  "kernelspec": {
   "display_name": "Python 3",
   "language": "python",
   "name": "python3"
  },
  "language_info": {
   "codemirror_mode": {
    "name": "ipython",
    "version": 3
   },
   "file_extension": ".py",
   "mimetype": "text/x-python",
   "name": "python",
   "nbconvert_exporter": "python",
   "pygments_lexer": "ipython3",
   "version": "3.7.3"
  }
 },
 "nbformat": 4,
 "nbformat_minor": 2
}
